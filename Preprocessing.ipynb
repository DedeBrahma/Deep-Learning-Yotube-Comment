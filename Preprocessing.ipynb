{
  "nbformat": 4,
  "nbformat_minor": 0,
  "metadata": {
    "colab": {
      "name": "Preprocessing.ipynb",
      "provenance": [],
      "collapsed_sections": [],
      "mount_file_id": "1XX_OgMVKm8kgxlnoIG9on9CpoGkBoNrN",
      "authorship_tag": "ABX9TyMjNAoYPkV7De07GbRp71Yg",
      "include_colab_link": true
    },
    "kernelspec": {
      "name": "python3",
      "display_name": "Python 3"
    }
  },
  "cells": [
    {
      "cell_type": "markdown",
      "metadata": {
        "id": "view-in-github",
        "colab_type": "text"
      },
      "source": [
        "<a href=\"https://colab.research.google.com/github/DedeBrahma/Deep-Learning-Yotube-Comment/blob/master/Preprocessing.ipynb\" target=\"_parent\"><img src=\"https://colab.research.google.com/assets/colab-badge.svg\" alt=\"Open In Colab\"/></a>"
      ]
    },
    {
      "cell_type": "markdown",
      "metadata": {
        "id": "r8WejEz0wHDc",
        "colab_type": "text"
      },
      "source": [
        "Team =\n",
        "\n",
        "\n",
        "1.   18917109 - Dede Brahma Arianto\n",
        "2.   19917019 - Yopi Azani\n",
        "\n"
      ]
    },
    {
      "cell_type": "markdown",
      "metadata": {
        "id": "ffL9ozgzyiP1",
        "colab_type": "text"
      },
      "source": [
        "# Load Dataset"
      ]
    },
    {
      "cell_type": "code",
      "metadata": {
        "id": "KBiCiN-WyVdJ",
        "colab_type": "code",
        "colab": {}
      },
      "source": [
        "import unicodedata\n",
        "import re\n",
        "import pandas as pd"
      ],
      "execution_count": 0,
      "outputs": []
    },
    {
      "cell_type": "code",
      "metadata": {
        "id": "n6QmAJg6ydk3",
        "colab_type": "code",
        "colab": {}
      },
      "source": [
        "dataset = pd.read_csv('/content/drive/My Drive/Kampus/Deep Learning Fundamental/Tugas_1 DL/ytb_comment.csv')\n",
        "# dataset = dataset.drop(columns=\"Username\")"
      ],
      "execution_count": 0,
      "outputs": []
    },
    {
      "cell_type": "code",
      "metadata": {
        "id": "2MBEeI0mygMX",
        "colab_type": "code",
        "outputId": "0c73659d-0a17-454e-c013-36fb5366fd05",
        "colab": {
          "base_uri": "https://localhost:8080/",
          "height": 419
        }
      },
      "source": [
        "dataset"
      ],
      "execution_count": 0,
      "outputs": [
        {
          "output_type": "execute_result",
          "data": {
            "text/html": [
              "<div>\n",
              "<style scoped>\n",
              "    .dataframe tbody tr th:only-of-type {\n",
              "        vertical-align: middle;\n",
              "    }\n",
              "\n",
              "    .dataframe tbody tr th {\n",
              "        vertical-align: top;\n",
              "    }\n",
              "\n",
              "    .dataframe thead th {\n",
              "        text-align: right;\n",
              "    }\n",
              "</style>\n",
              "<table border=\"1\" class=\"dataframe\">\n",
              "  <thead>\n",
              "    <tr style=\"text-align: right;\">\n",
              "      <th></th>\n",
              "      <th>Username</th>\n",
              "      <th>Comment</th>\n",
              "    </tr>\n",
              "  </thead>\n",
              "  <tbody>\n",
              "    <tr>\n",
              "      <th>0</th>\n",
              "      <td>Muhammad Irsyad</td>\n",
              "      <td>Ayo ayo jangan bosen2 saling mengingatkan...se...</td>\n",
              "    </tr>\n",
              "    <tr>\n",
              "      <th>1</th>\n",
              "      <td>Dion Damaris</td>\n",
              "      <td>Hargailah baik-baik kesehatan kita. Patuhi anj...</td>\n",
              "    </tr>\n",
              "    <tr>\n",
              "      <th>2</th>\n",
              "      <td>Woh Getoh</td>\n",
              "      <td>Update 22 Maret :-Malaysia 🇲🇾Total kes : 1306</td>\n",
              "    </tr>\n",
              "    <tr>\n",
              "      <th>3</th>\n",
              "      <td>Sugenghar Ianto</td>\n",
              "      <td>Bagi yang punya duit Borong semua masker boron...</td>\n",
              "    </tr>\n",
              "    <tr>\n",
              "      <th>4</th>\n",
              "      <td>ican Gofur</td>\n",
              "      <td>Yang displin,yang tetap jaga kesehatan dan ber...</td>\n",
              "    </tr>\n",
              "    <tr>\n",
              "      <th>...</th>\n",
              "      <td>...</td>\n",
              "      <td>...</td>\n",
              "    </tr>\n",
              "    <tr>\n",
              "      <th>765</th>\n",
              "      <td>firman adnan</td>\n",
              "      <td>Santuy badai pasti berlalau.. walau istriku la...</td>\n",
              "    </tr>\n",
              "    <tr>\n",
              "      <th>766</th>\n",
              "      <td>Mirza Ahmad</td>\n",
              "      <td>Di luar jawa mungkin lebih banyak, apalagi Man...</td>\n",
              "    </tr>\n",
              "    <tr>\n",
              "      <th>767</th>\n",
              "      <td>Lukia Stream</td>\n",
              "      <td>Dan detik ini Indonesia dapet ranking 1 Persen...</td>\n",
              "    </tr>\n",
              "    <tr>\n",
              "      <th>768</th>\n",
              "      <td>Raynaldi Eka Kesuma Putra</td>\n",
              "      <td>Jokowi Indonesia Harus Lockdown Sekarang Juga</td>\n",
              "    </tr>\n",
              "    <tr>\n",
              "      <th>769</th>\n",
              "      <td>Sardo Korintus</td>\n",
              "      <td>Lebih banyak meninggal dari yang sembuh. Ini s...</td>\n",
              "    </tr>\n",
              "  </tbody>\n",
              "</table>\n",
              "<p>770 rows × 2 columns</p>\n",
              "</div>"
            ],
            "text/plain": [
              "                      Username                                            Comment\n",
              "0              Muhammad Irsyad  Ayo ayo jangan bosen2 saling mengingatkan...se...\n",
              "1                 Dion Damaris  Hargailah baik-baik kesehatan kita. Patuhi anj...\n",
              "2                    Woh Getoh      Update 22 Maret :-Malaysia 🇲🇾Total kes : 1306\n",
              "3              Sugenghar Ianto  Bagi yang punya duit Borong semua masker boron...\n",
              "4                   ican Gofur  Yang displin,yang tetap jaga kesehatan dan ber...\n",
              "..                         ...                                                ...\n",
              "765               firman adnan  Santuy badai pasti berlalau.. walau istriku la...\n",
              "766                Mirza Ahmad  Di luar jawa mungkin lebih banyak, apalagi Man...\n",
              "767               Lukia Stream  Dan detik ini Indonesia dapet ranking 1 Persen...\n",
              "768  Raynaldi Eka Kesuma Putra      Jokowi Indonesia Harus Lockdown Sekarang Juga\n",
              "769             Sardo Korintus  Lebih banyak meninggal dari yang sembuh. Ini s...\n",
              "\n",
              "[770 rows x 2 columns]"
            ]
          },
          "metadata": {
            "tags": []
          },
          "execution_count": 34
        }
      ]
    },
    {
      "cell_type": "markdown",
      "metadata": {
        "id": "useTcKUazZM4",
        "colab_type": "text"
      },
      "source": [
        "# Text Cleaning"
      ]
    },
    {
      "cell_type": "code",
      "metadata": {
        "id": "y0hgARaD3NUW",
        "colab_type": "code",
        "outputId": "0f3e3412-45e1-4c26-905d-19f762664a76",
        "colab": {
          "base_uri": "https://localhost:8080/",
          "height": 102
        }
      },
      "source": [
        "pip install sastrawi"
      ],
      "execution_count": 0,
      "outputs": [
        {
          "output_type": "stream",
          "text": [
            "Collecting sastrawi\n",
            "\u001b[?25l  Downloading https://files.pythonhosted.org/packages/6f/4b/bab676953da3103003730b8fcdfadbdd20f333d4add10af949dd5c51e6ed/Sastrawi-1.0.1-py2.py3-none-any.whl (209kB)\n",
            "\r\u001b[K     |█▋                              | 10kB 19.9MB/s eta 0:00:01\r\u001b[K     |███▏                            | 20kB 1.6MB/s eta 0:00:01\r\u001b[K     |████▊                           | 30kB 2.3MB/s eta 0:00:01\r\u001b[K     |██████▎                         | 40kB 1.5MB/s eta 0:00:01\r\u001b[K     |███████▉                        | 51kB 1.9MB/s eta 0:00:01\r\u001b[K     |█████████▍                      | 61kB 2.3MB/s eta 0:00:01\r\u001b[K     |███████████                     | 71kB 2.6MB/s eta 0:00:01\r\u001b[K     |████████████▌                   | 81kB 3.0MB/s eta 0:00:01\r\u001b[K     |██████████████                  | 92kB 3.4MB/s eta 0:00:01\r\u001b[K     |███████████████▋                | 102kB 2.5MB/s eta 0:00:01\r\u001b[K     |█████████████████▏              | 112kB 2.5MB/s eta 0:00:01\r\u001b[K     |██████████████████▊             | 122kB 2.5MB/s eta 0:00:01\r\u001b[K     |████████████████████▎           | 133kB 2.5MB/s eta 0:00:01\r\u001b[K     |█████████████████████▉          | 143kB 2.5MB/s eta 0:00:01\r\u001b[K     |███████████████████████▍        | 153kB 2.5MB/s eta 0:00:01\r\u001b[K     |█████████████████████████       | 163kB 2.5MB/s eta 0:00:01\r\u001b[K     |██████████████████████████▋     | 174kB 2.5MB/s eta 0:00:01\r\u001b[K     |████████████████████████████▏   | 184kB 2.5MB/s eta 0:00:01\r\u001b[K     |█████████████████████████████▊  | 194kB 2.5MB/s eta 0:00:01\r\u001b[K     |███████████████████████████████▎| 204kB 2.5MB/s eta 0:00:01\r\u001b[K     |████████████████████████████████| 215kB 2.5MB/s \n",
            "\u001b[?25hInstalling collected packages: sastrawi\n",
            "Successfully installed sastrawi-1.0.1\n"
          ],
          "name": "stdout"
        }
      ]
    },
    {
      "cell_type": "code",
      "metadata": {
        "id": "Wc4Ct87A3syV",
        "colab_type": "code",
        "outputId": "70dfc594-d701-4d92-9786-d321b257c783",
        "colab": {
          "base_uri": "https://localhost:8080/",
          "height": 102
        }
      },
      "source": [
        "import nltk\n",
        "nltk.download('stopwords')\n",
        "nltk.download('punkt')"
      ],
      "execution_count": 0,
      "outputs": [
        {
          "output_type": "stream",
          "text": [
            "[nltk_data] Downloading package stopwords to /root/nltk_data...\n",
            "[nltk_data]   Unzipping corpora/stopwords.zip.\n",
            "[nltk_data] Downloading package punkt to /root/nltk_data...\n",
            "[nltk_data]   Unzipping tokenizers/punkt.zip.\n"
          ],
          "name": "stdout"
        },
        {
          "output_type": "execute_result",
          "data": {
            "text/plain": [
              "True"
            ]
          },
          "metadata": {
            "tags": []
          },
          "execution_count": 6
        }
      ]
    },
    {
      "cell_type": "code",
      "metadata": {
        "id": "V42sXgSDzbwJ",
        "colab_type": "code",
        "colab": {}
      },
      "source": [
        "from nltk import word_tokenize, sent_tokenize\n",
        "from nltk.corpus import stopwords\n",
        "from Sastrawi.Stemmer.StemmerFactory import StemmerFactory\n",
        "import nltk"
      ],
      "execution_count": 0,
      "outputs": []
    },
    {
      "cell_type": "markdown",
      "metadata": {
        "id": "VvrFEZmNuQjK",
        "colab_type": "text"
      },
      "source": [
        "Masukkan stopwords_id.txt kedalam folder\n",
        "\n",
        "`/root/nltk_data/corpora/stopwords`\n",
        "\n",
        "kemudian rename menjadi stopwords_id (hilangkan extention txt)"
      ]
    },
    {
      "cell_type": "code",
      "metadata": {
        "id": "y1W_QSKpz0gc",
        "colab_type": "code",
        "colab": {}
      },
      "source": [
        "def removeStopword(str):\n",
        "    stop_words = set(stopwords.words('stopwords_id'))\n",
        "    word_tokens = word_tokenize(str)\n",
        "    filtered_sentence = [w for w in word_tokens if not w in stop_words]\n",
        "    return ' '.join(filtered_sentence)\n",
        "\n",
        "def stemming(str):\n",
        "    factory = StemmerFactory()\n",
        "    stemmer = factory.create_stemmer()\n",
        "    return stemmer.stem(str)\n",
        "\n",
        "def cleaning(str):\n",
        "    #remove non-ascii\n",
        "    str = unicodedata.normalize('NFKD', str).encode('ascii', 'ignore').decode('utf-8', 'ignore')\n",
        "    #remove URLs\n",
        "    str = re.sub(r'(?i)\\b((?:https?://|www\\d{0,3}[.]|[a-z0-9.\\-]+[.][a-z]{2,4}/)(?:[^\\s()<>]+|\\(([^\\s()<>]+|(\\([^\\s()<>]+\\)))*\\))+(?:\\(([^\\s()<>]+|(\\([^\\s()<>]+\\)))*\\)|[^\\s`!()\\[\\]{};:\\'\".,<>?«»“”‘’]))', '', str)\n",
        "    #remove punctuations\n",
        "    str = re.sub(r'[^\\w]|_',' ',str)\n",
        "    #remove digit from string\n",
        "    str = re.sub(\"\\S*\\d\\S*\", \" \", str).strip()\n",
        "    #remove digit or numbers\n",
        "    str = re.sub(r\"\\b\\d+\\b\", \" \", str)\n",
        "    #to lowercase\n",
        "    str = str.lower()\n",
        "    #Remove additional white spaces\n",
        "    str = re.sub('[\\s]+', ' ', str)\n",
        "    # print(str)   \n",
        "    return str\n",
        "\n",
        "def slangWord(str):\n",
        "  # str = str.lower()\n",
        "  # file = '/slang.dic'\n",
        "  file = './slang.dic'\n",
        "  fix2 = {}\n",
        "  with open(file) as f:\n",
        "    for line in f:\n",
        "       (key, val) = line.split(':')\n",
        "       fix2[key] = val.replace('\\n',' ')\n",
        "  tweet_t = nltk.word_tokenize(str)\n",
        "  clean = \" \"\n",
        "  for i in tweet_t:\n",
        "    for slang, formal in fix2.items():\n",
        "        if i == slang:\n",
        "            i = formal\n",
        "    if i.isalnum():\n",
        "        clean = clean+i+' '\n",
        "    else:\n",
        "        clean = clean[:-1]+' '+i+' '\n",
        "  str = clean\n",
        "  return str\n",
        "\n",
        "def preprocessing(str):    \n",
        "    str = cleaning(str)\n",
        "    str = slangWord(str)        \n",
        "    str = removeStopword(str)\n",
        "    str = stemming(str)\n",
        "    \n",
        "    return str"
      ],
      "execution_count": 0,
      "outputs": []
    },
    {
      "cell_type": "code",
      "metadata": {
        "id": "Ub5tXfUIsk3b",
        "colab_type": "code",
        "colab": {}
      },
      "source": [
        "data_clean = []\n",
        "data_text = dataset['Comment']\n",
        "for item in data_text:\n",
        "  tmp = preprocessing(item)\n",
        "  data_clean.append(tmp)\n",
        "\n",
        "dataset['Comment'] = data_clean"
      ],
      "execution_count": 0,
      "outputs": []
    },
    {
      "cell_type": "code",
      "metadata": {
        "id": "fGoU6NRNRGgY",
        "colab_type": "code",
        "outputId": "024ea967-69c7-43a6-a4c0-91702b64c111",
        "colab": {
          "base_uri": "https://localhost:8080/",
          "height": 419
        }
      },
      "source": [
        "dataset"
      ],
      "execution_count": 0,
      "outputs": [
        {
          "output_type": "execute_result",
          "data": {
            "text/html": [
              "<div>\n",
              "<style scoped>\n",
              "    .dataframe tbody tr th:only-of-type {\n",
              "        vertical-align: middle;\n",
              "    }\n",
              "\n",
              "    .dataframe tbody tr th {\n",
              "        vertical-align: top;\n",
              "    }\n",
              "\n",
              "    .dataframe thead th {\n",
              "        text-align: right;\n",
              "    }\n",
              "</style>\n",
              "<table border=\"1\" class=\"dataframe\">\n",
              "  <thead>\n",
              "    <tr style=\"text-align: right;\">\n",
              "      <th></th>\n",
              "      <th>Username</th>\n",
              "      <th>Comment</th>\n",
              "    </tr>\n",
              "  </thead>\n",
              "  <tbody>\n",
              "    <tr>\n",
              "      <th>0</th>\n",
              "      <td>Muhammad Irsyad</td>\n",
              "      <td>ayo ayo moga allah swt lindung amin</td>\n",
              "    </tr>\n",
              "    <tr>\n",
              "      <th>1</th>\n",
              "      <td>Dion Damaris</td>\n",
              "      <td>harga sehat patuh anjur perintah sehat sakit</td>\n",
              "    </tr>\n",
              "    <tr>\n",
              "      <th>2</th>\n",
              "      <td>Woh Getoh</td>\n",
              "      <td>update maret malaysia total kes</td>\n",
              "    </tr>\n",
              "    <tr>\n",
              "      <th>3</th>\n",
              "      <td>Sugenghar Ianto</td>\n",
              "      <td>duit borong masker borong sanitizer borong bah...</td>\n",
              "    </tr>\n",
              "    <tr>\n",
              "      <th>4</th>\n",
              "      <td>ican Gofur</td>\n",
              "      <td>displin jaga sehat berfikir positiv tahan sola...</td>\n",
              "    </tr>\n",
              "    <tr>\n",
              "      <th>...</th>\n",
              "      <td>...</td>\n",
              "      <td>...</td>\n",
              "    </tr>\n",
              "    <tr>\n",
              "      <th>765</th>\n",
              "      <td>firman adnan</td>\n",
              "      <td>santuy badai lalau istri hamil moga aja ga</td>\n",
              "    </tr>\n",
              "    <tr>\n",
              "      <th>766</th>\n",
              "      <td>Mirza Ahmad</td>\n",
              "      <td>jawa manado jakarta gubernur anies baswedan pe...</td>\n",
              "    </tr>\n",
              "    <tr>\n",
              "      <th>767</th>\n",
              "      <td>Lukia Stream</td>\n",
              "      <td>detik indonesia dapet ranking persentase mati ...</td>\n",
              "    </tr>\n",
              "    <tr>\n",
              "      <th>768</th>\n",
              "      <td>Raynaldi Eka Kesuma Putra</td>\n",
              "      <td>jokowi indonesia lockdown</td>\n",
              "    </tr>\n",
              "    <tr>\n",
              "      <th>769</th>\n",
              "      <td>Sardo Korintus</td>\n",
              "      <td>tinggal sembuh sih kacau banget borok rejim jo...</td>\n",
              "    </tr>\n",
              "  </tbody>\n",
              "</table>\n",
              "<p>770 rows × 2 columns</p>\n",
              "</div>"
            ],
            "text/plain": [
              "                      Username                                            Comment\n",
              "0              Muhammad Irsyad                ayo ayo moga allah swt lindung amin\n",
              "1                 Dion Damaris       harga sehat patuh anjur perintah sehat sakit\n",
              "2                    Woh Getoh                    update maret malaysia total kes\n",
              "3              Sugenghar Ianto  duit borong masker borong sanitizer borong bah...\n",
              "4                   ican Gofur  displin jaga sehat berfikir positiv tahan sola...\n",
              "..                         ...                                                ...\n",
              "765               firman adnan         santuy badai lalau istri hamil moga aja ga\n",
              "766                Mirza Ahmad  jawa manado jakarta gubernur anies baswedan pe...\n",
              "767               Lukia Stream  detik indonesia dapet ranking persentase mati ...\n",
              "768  Raynaldi Eka Kesuma Putra                          jokowi indonesia lockdown\n",
              "769             Sardo Korintus  tinggal sembuh sih kacau banget borok rejim jo...\n",
              "\n",
              "[770 rows x 2 columns]"
            ]
          },
          "metadata": {
            "tags": []
          },
          "execution_count": 40
        }
      ]
    },
    {
      "cell_type": "markdown",
      "metadata": {
        "id": "CE6fLW192vio",
        "colab_type": "text"
      },
      "source": [
        "# Klasifikasi Sentiment"
      ]
    },
    {
      "cell_type": "code",
      "metadata": {
        "id": "uS7OKp2rNpZZ",
        "colab_type": "code",
        "colab": {}
      },
      "source": [
        "from textblob import TextBlob\n",
        "def analize_sentiment(comment):\n",
        "  # print(comment)\n",
        "  try:\n",
        "    analysis = TextBlob(str(comment))\n",
        "    time.sleep(0.2)\n",
        "    toEN = analysis.translate(to='en')\n",
        "    time.sleep(0.2)\n",
        "    if toEN.sentiment.polarity > 0:\n",
        "      return('positif')\n",
        "    elif toEN.sentiment.polarity == 0:\n",
        "      return('netral')\n",
        "    else:\n",
        "      return('negatif')\n",
        "  except:\n",
        "    return ('netral')"
      ],
      "execution_count": 0,
      "outputs": []
    },
    {
      "cell_type": "code",
      "metadata": {
        "id": "pbYf6eYDMlol",
        "colab_type": "code",
        "outputId": "ef353f02-e875-4d5a-dbde-841633efcb0a",
        "colab": {
          "base_uri": "https://localhost:8080/",
          "height": 419
        }
      },
      "source": [
        "# Tambahkan kolom label ke dalam dataframe:\n",
        "dataset['label'] = np.array([analize_sentiment(tweet) for tweet in dataset['Comment'] ])\n",
        "\n",
        "# Tampilkan data:\n",
        "display(dataset)"
      ],
      "execution_count": 0,
      "outputs": [
        {
          "output_type": "display_data",
          "data": {
            "text/html": [
              "<div>\n",
              "<style scoped>\n",
              "    .dataframe tbody tr th:only-of-type {\n",
              "        vertical-align: middle;\n",
              "    }\n",
              "\n",
              "    .dataframe tbody tr th {\n",
              "        vertical-align: top;\n",
              "    }\n",
              "\n",
              "    .dataframe thead th {\n",
              "        text-align: right;\n",
              "    }\n",
              "</style>\n",
              "<table border=\"1\" class=\"dataframe\">\n",
              "  <thead>\n",
              "    <tr style=\"text-align: right;\">\n",
              "      <th></th>\n",
              "      <th>Username</th>\n",
              "      <th>Comment</th>\n",
              "      <th>label</th>\n",
              "    </tr>\n",
              "  </thead>\n",
              "  <tbody>\n",
              "    <tr>\n",
              "      <th>0</th>\n",
              "      <td>Muhammad Irsyad</td>\n",
              "      <td>ayo ayo moga allah swt lindung amin</td>\n",
              "      <td>netral</td>\n",
              "    </tr>\n",
              "    <tr>\n",
              "      <th>1</th>\n",
              "      <td>Dion Damaris</td>\n",
              "      <td>harga sehat patuh anjur perintah sehat sakit</td>\n",
              "      <td>netral</td>\n",
              "    </tr>\n",
              "    <tr>\n",
              "      <th>2</th>\n",
              "      <td>Woh Getoh</td>\n",
              "      <td>update maret malaysia total kes</td>\n",
              "      <td>netral</td>\n",
              "    </tr>\n",
              "    <tr>\n",
              "      <th>3</th>\n",
              "      <td>Sugenghar Ianto</td>\n",
              "      <td>duit borong masker borong sanitizer borong bah...</td>\n",
              "      <td>netral</td>\n",
              "    </tr>\n",
              "    <tr>\n",
              "      <th>4</th>\n",
              "      <td>ican Gofur</td>\n",
              "      <td>displin jaga sehat berfikir positiv tahan sola...</td>\n",
              "      <td>netral</td>\n",
              "    </tr>\n",
              "    <tr>\n",
              "      <th>...</th>\n",
              "      <td>...</td>\n",
              "      <td>...</td>\n",
              "      <td>...</td>\n",
              "    </tr>\n",
              "    <tr>\n",
              "      <th>765</th>\n",
              "      <td>firman adnan</td>\n",
              "      <td>santuy badai lalau istri hamil moga aja ga</td>\n",
              "      <td>netral</td>\n",
              "    </tr>\n",
              "    <tr>\n",
              "      <th>766</th>\n",
              "      <td>Mirza Ahmad</td>\n",
              "      <td>jawa manado jakarta gubernur anies baswedan pe...</td>\n",
              "      <td>netral</td>\n",
              "    </tr>\n",
              "    <tr>\n",
              "      <th>767</th>\n",
              "      <td>Lukia Stream</td>\n",
              "      <td>detik indonesia dapet ranking persentase mati ...</td>\n",
              "      <td>netral</td>\n",
              "    </tr>\n",
              "    <tr>\n",
              "      <th>768</th>\n",
              "      <td>Raynaldi Eka Kesuma Putra</td>\n",
              "      <td>jokowi indonesia lockdown</td>\n",
              "      <td>netral</td>\n",
              "    </tr>\n",
              "    <tr>\n",
              "      <th>769</th>\n",
              "      <td>Sardo Korintus</td>\n",
              "      <td>tinggal sembuh sih kacau banget borok rejim jo...</td>\n",
              "      <td>netral</td>\n",
              "    </tr>\n",
              "  </tbody>\n",
              "</table>\n",
              "<p>770 rows × 3 columns</p>\n",
              "</div>"
            ],
            "text/plain": [
              "                      Username  ...   label\n",
              "0              Muhammad Irsyad  ...  netral\n",
              "1                 Dion Damaris  ...  netral\n",
              "2                    Woh Getoh  ...  netral\n",
              "3              Sugenghar Ianto  ...  netral\n",
              "4                   ican Gofur  ...  netral\n",
              "..                         ...  ...     ...\n",
              "765               firman adnan  ...  netral\n",
              "766                Mirza Ahmad  ...  netral\n",
              "767               Lukia Stream  ...  netral\n",
              "768  Raynaldi Eka Kesuma Putra  ...  netral\n",
              "769             Sardo Korintus  ...  netral\n",
              "\n",
              "[770 rows x 3 columns]"
            ]
          },
          "metadata": {
            "tags": []
          }
        }
      ]
    },
    {
      "cell_type": "code",
      "metadata": {
        "id": "E8_0BUf9Rgat",
        "colab_type": "code",
        "colab": {}
      },
      "source": [
        "pos_tweets = [ tweet for index, tweet in enumerate(dataset['Comment']) if dataset['label'][index] == 'positif']\n",
        "neu_tweets = [ tweet for index, tweet in enumerate(dataset['Comment']) if dataset['label'][index] == 'netral']\n",
        "neg_tweets = [ tweet for index, tweet in enumerate(dataset['Comment']) if dataset['label'][index] == 'negatif']"
      ],
      "execution_count": 0,
      "outputs": []
    },
    {
      "cell_type": "code",
      "metadata": {
        "id": "s_uAnNzHRjBk",
        "colab_type": "code",
        "outputId": "d283ba4d-685f-48c1-91cd-854ca2fc4c42",
        "colab": {
          "base_uri": "https://localhost:8080/",
          "height": 68
        }
      },
      "source": [
        "total_pos = len(pos_tweets)*100/len(dataset['Comment'])\n",
        "total_net = len(neu_tweets)*100/len(dataset['Comment'])\n",
        "total_neg = len(neg_tweets)*100/len(dataset['Comment'])\n",
        "\n",
        "print(\"Total Positif: \", total_pos)\n",
        "print(\"Total Netral: \", total_net)\n",
        "print(\"Total Negatif: \", total_neg)"
      ],
      "execution_count": 0,
      "outputs": [
        {
          "output_type": "stream",
          "text": [
            "Total Positif:  4.675324675324675\n",
            "Total Netral:  92.72727272727273\n",
            "Total Negatif:  2.5974025974025974\n"
          ],
          "name": "stdout"
        }
      ]
    },
    {
      "cell_type": "code",
      "metadata": {
        "id": "8IkTbgGtxcCK",
        "colab_type": "code",
        "colab": {}
      },
      "source": [
        "dataset = dataset.drop(columns=\"Username\")\n",
        "dataset"
      ],
      "execution_count": 0,
      "outputs": []
    },
    {
      "cell_type": "code",
      "metadata": {
        "id": "iJA-kKYEx5Yc",
        "colab_type": "code",
        "colab": {}
      },
      "source": [
        "dataset.to_csv('/content/drive/My Drive/Kampus/Deep Learning Fundamental/Tugas_1 DL/clean_data.csv', index = False)"
      ],
      "execution_count": 0,
      "outputs": []
    }
  ]
}