{
  "nbformat": 4,
  "nbformat_minor": 0,
  "metadata": {
    "colab": {
      "name": "Sentiment Youtube RNN-LSTM.ipynb",
      "provenance": [],
      "collapsed_sections": [],
      "toc_visible": true,
      "mount_file_id": "1-hvyrxJn4818By1rXV9i-FNMocLrba0y",
      "authorship_tag": "ABX9TyPgeohY3PflzR0q3hf7WDFs",
      "include_colab_link": true
    },
    "kernelspec": {
      "name": "python3",
      "display_name": "Python 3"
    }
  },
  "cells": [
    {
      "cell_type": "markdown",
      "metadata": {
        "id": "view-in-github",
        "colab_type": "text"
      },
      "source": [
        "<a href=\"https://colab.research.google.com/github/DedeBrahma/Deep-Learning-Yotube-Comment/blob/master/Sentiment_Youtube_RNN_LSTM.ipynb\" target=\"_parent\"><img src=\"https://colab.research.google.com/assets/colab-badge.svg\" alt=\"Open In Colab\"/></a>"
      ]
    },
    {
      "cell_type": "markdown",
      "metadata": {
        "id": "ft6UvJaeumQz",
        "colab_type": "text"
      },
      "source": [
        "Team =\n",
        "\n",
        "\n",
        "1.   18917109 - Dede Brahma Arianto\n",
        "2.   19917019 - Yopi Azani\n",
        "\n"
      ]
    },
    {
      "cell_type": "markdown",
      "metadata": {
        "id": "EatnwS-O5XeO",
        "colab_type": "text"
      },
      "source": [
        "#Intro\n",
        "\n",
        "\n",
        "---\n",
        "\n",
        "\n",
        "\n",
        "![alt text](https://miro.medium.com/max/1458/1*SICYykT7ybua1gVJDNlajw.png)"
      ]
    },
    {
      "cell_type": "code",
      "metadata": {
        "id": "_9U7H92C3IPT",
        "colab_type": "code",
        "colab": {
          "base_uri": "https://localhost:8080/",
          "height": 34
        },
        "outputId": "7702a377-5e48-47a7-dd76-36dea1f11d0b"
      },
      "source": [
        "%tensorflow_version 2.x"
      ],
      "execution_count": 1,
      "outputs": [
        {
          "output_type": "stream",
          "text": [
            "TensorFlow 2.x selected.\n"
          ],
          "name": "stdout"
        }
      ]
    },
    {
      "cell_type": "code",
      "metadata": {
        "id": "VFt9c8KI3Xr-",
        "colab_type": "code",
        "colab": {
          "base_uri": "https://localhost:8080/",
          "height": 34
        },
        "outputId": "4c47e28b-c4f3-4532-8f17-9282e53977e1"
      },
      "source": [
        "import tensorflow as tf\n",
        "import numpy as np\n",
        "from keras.preprocessing.text import Tokenizer\n",
        "from tensorflow.keras.preprocessing import sequence\n",
        "from tensorflow.keras.preprocessing.text import Tokenizer"
      ],
      "execution_count": 2,
      "outputs": [
        {
          "output_type": "stream",
          "text": [
            "Using TensorFlow backend.\n"
          ],
          "name": "stderr"
        }
      ]
    },
    {
      "cell_type": "code",
      "metadata": {
        "id": "bRGzaMWc3YwA",
        "colab_type": "code",
        "colab": {}
      },
      "source": [
        "np.random.seed(7)"
      ],
      "execution_count": 0,
      "outputs": []
    },
    {
      "cell_type": "markdown",
      "metadata": {
        "id": "ZhAeiqbg5oil",
        "colab_type": "text"
      },
      "source": [
        "# Load Dataset"
      ]
    },
    {
      "cell_type": "code",
      "metadata": {
        "id": "s4pYr_J65r2R",
        "colab_type": "code",
        "outputId": "2ba6bb0e-760c-41ec-bef2-71b72f70b12b",
        "colab": {
          "base_uri": "https://localhost:8080/",
          "height": 419
        }
      },
      "source": [
        "import pandas as pd\n",
        "\n",
        "dataset = pd.read_csv('/content/drive/My Drive/Kampus/Deep Learning Fundamental/Tugas_1 DL/data_clean.csv')\n",
        "dataset"
      ],
      "execution_count": 5,
      "outputs": [
        {
          "output_type": "execute_result",
          "data": {
            "text/html": [
              "<div>\n",
              "<style scoped>\n",
              "    .dataframe tbody tr th:only-of-type {\n",
              "        vertical-align: middle;\n",
              "    }\n",
              "\n",
              "    .dataframe tbody tr th {\n",
              "        vertical-align: top;\n",
              "    }\n",
              "\n",
              "    .dataframe thead th {\n",
              "        text-align: right;\n",
              "    }\n",
              "</style>\n",
              "<table border=\"1\" class=\"dataframe\">\n",
              "  <thead>\n",
              "    <tr style=\"text-align: right;\">\n",
              "      <th></th>\n",
              "      <th>Comment</th>\n",
              "      <th>label</th>\n",
              "    </tr>\n",
              "  </thead>\n",
              "  <tbody>\n",
              "    <tr>\n",
              "      <th>0</th>\n",
              "      <td>ayo ayo moga allah swt lindung amin</td>\n",
              "      <td>netral</td>\n",
              "    </tr>\n",
              "    <tr>\n",
              "      <th>1</th>\n",
              "      <td>harga sehat patuh anjur perintah sehat sakit</td>\n",
              "      <td>positif</td>\n",
              "    </tr>\n",
              "    <tr>\n",
              "      <th>2</th>\n",
              "      <td>update maret malaysia total kes</td>\n",
              "      <td>netral</td>\n",
              "    </tr>\n",
              "    <tr>\n",
              "      <th>3</th>\n",
              "      <td>moga yuri sehat ya lelah</td>\n",
              "      <td>positif</td>\n",
              "    </tr>\n",
              "    <tr>\n",
              "      <th>4</th>\n",
              "      <td>nurut warga daerah rawan sm himbauan perintah ...</td>\n",
              "      <td>netral</td>\n",
              "    </tr>\n",
              "    <tr>\n",
              "      <th>...</th>\n",
              "      <td>...</td>\n",
              "      <td>...</td>\n",
              "    </tr>\n",
              "    <tr>\n",
              "      <th>745</th>\n",
              "      <td>santuy badai lalau istri hamil moga aja ga</td>\n",
              "      <td>positif</td>\n",
              "    </tr>\n",
              "    <tr>\n",
              "      <th>746</th>\n",
              "      <td>jawa manado jakarta gubernur anies baswedan pe...</td>\n",
              "      <td>netral</td>\n",
              "    </tr>\n",
              "    <tr>\n",
              "      <th>747</th>\n",
              "      <td>detik indonesia dapet ranking persentase mati ...</td>\n",
              "      <td>positif</td>\n",
              "    </tr>\n",
              "    <tr>\n",
              "      <th>748</th>\n",
              "      <td>jokowi indonesia lockdown</td>\n",
              "      <td>netral</td>\n",
              "    </tr>\n",
              "    <tr>\n",
              "      <th>749</th>\n",
              "      <td>tinggal sembuh sih kacau banget borok rejim jo...</td>\n",
              "      <td>positif</td>\n",
              "    </tr>\n",
              "  </tbody>\n",
              "</table>\n",
              "<p>750 rows × 2 columns</p>\n",
              "</div>"
            ],
            "text/plain": [
              "                                               Comment    label\n",
              "0                  ayo ayo moga allah swt lindung amin   netral\n",
              "1         harga sehat patuh anjur perintah sehat sakit  positif\n",
              "2                      update maret malaysia total kes   netral\n",
              "3                             moga yuri sehat ya lelah  positif\n",
              "4    nurut warga daerah rawan sm himbauan perintah ...   netral\n",
              "..                                                 ...      ...\n",
              "745         santuy badai lalau istri hamil moga aja ga  positif\n",
              "746  jawa manado jakarta gubernur anies baswedan pe...   netral\n",
              "747  detik indonesia dapet ranking persentase mati ...  positif\n",
              "748                          jokowi indonesia lockdown   netral\n",
              "749  tinggal sembuh sih kacau banget borok rejim jo...  positif\n",
              "\n",
              "[750 rows x 2 columns]"
            ]
          },
          "metadata": {
            "tags": []
          },
          "execution_count": 5
        }
      ]
    },
    {
      "cell_type": "markdown",
      "metadata": {
        "id": "gpbikNDltEMY",
        "colab_type": "text"
      },
      "source": [
        "# Pad Sequence"
      ]
    },
    {
      "cell_type": "markdown",
      "metadata": {
        "id": "DKPl5vV3tH4L",
        "colab_type": "text"
      },
      "source": [
        "![alt text](https://chunml.github.io/images/projects/sequence-to-sequence/zero_pad_index_sequence.png)\n",
        "\n",
        "Ref = \n",
        "\n",
        "https://chunml.github.io/ChunML.github.io/project/Sequence-To-Sequence/\n",
        "\n",
        "https://stackoverflow.com/questions/42042338/what-keras-pad-sequence-do\n",
        "\n",
        "https://machinelearningmastery.com/data-preparation-variable-length-input-sequences-sequence-prediction/"
      ]
    },
    {
      "cell_type": "markdown",
      "metadata": {
        "id": "egteD9yJ588l",
        "colab_type": "text"
      },
      "source": [
        "\n",
        "\n",
        "---\n",
        "\n",
        "\n",
        "`max_fatures = 5000`\n",
        "\n",
        "mengatur jumlah maksimum kata yang akan digunakan sebanyak 5000 kata.\n",
        "batasan jumlah kemunculan satu kata pada document tidak lebih dari 5000.\n",
        "\n",
        "Ref = https://stackoverflow.com/questions/56880252/using-pre-trained-word-embeddings-in-a-keras-model\n",
        "\n",
        "\n",
        "---\n",
        "\n",
        "\n",
        "menentukan data training dan testing dari load data dengan parameter jumlah `max_fatures`\n",
        "\n",
        "secara default training data dan testing akan dibagi dua 25000 training dan testing.\n",
        "\n",
        "Ref = https://stackoverflow.com/questions/46495215/what-is-the-difference-between-x-train-and-x-test-in-keras"
      ]
    },
    {
      "cell_type": "code",
      "metadata": {
        "id": "5jxHtFO4nCfs",
        "colab_type": "code",
        "colab": {}
      },
      "source": [
        "max_fatures = 5000\n",
        "tokenizer = Tokenizer(num_words=max_fatures, split=' ')\n",
        "data['Comment'] = str(dataset['Comment'])\n",
        "data['label'] = str(dataset['label'])\n",
        "tokenizer.fit_on_texts(dataset['Comment'].values)\n",
        "X = tokenizer.texts_to_sequences(dataset['Comment'].values)\n",
        "X = sequence.pad_sequences(X)\n",
        "# Y = pd.get_dummies(data['label']).values\n",
        "tokenizer.fit_on_texts(dataset['label'].values)\n",
        "Y = tokenizer.texts_to_sequences(dataset['label'].values)\n",
        "Y = sequence.pad_sequences(Y)"
      ],
      "execution_count": 0,
      "outputs": []
    },
    {
      "cell_type": "markdown",
      "metadata": {
        "id": "_n7GyEY_tSvu",
        "colab_type": "text"
      },
      "source": [
        "# Design RNN Sentiment Analysis"
      ]
    },
    {
      "cell_type": "code",
      "metadata": {
        "id": "-QP22iH2nVzK",
        "colab_type": "code",
        "colab": {}
      },
      "source": [
        "from tensorflow.keras.models import Sequential\n",
        "from tensorflow.keras.layers import Embedding, SimpleRNN, LSTM, GRU, Dense,Activation\n",
        "import matplotlib.pyplot as plt\n",
        "from sklearn.model_selection import train_test_split"
      ],
      "execution_count": 0,
      "outputs": []
    },
    {
      "cell_type": "markdown",
      "metadata": {
        "id": "RPjDDURPtkkM",
        "colab_type": "text"
      },
      "source": [
        "![alt text](https://www.learnopencv.com/wp-content/uploads/2017/09/keras-workflow.jpg)"
      ]
    },
    {
      "cell_type": "markdown",
      "metadata": {
        "id": "70hFGeu9tfX4",
        "colab_type": "text"
      },
      "source": [
        "Loss Function\n",
        "Ref =\n",
        "\n",
        "https://stackoverflow.com/questions/42081257/keras-binary-crossentropy-vs-categorical-crossentropy-performance\n",
        "\n",
        "https://machinelearningmastery.com/how-to-choose-loss-functions-when-training-deep-learning-neural-networks/\n",
        "\n",
        "\n",
        "Optimizer =\n",
        "\n",
        "https://algorithmia.com/blog/introduction-to-optimizers\n",
        "\n",
        "https://machinelearningmastery.com/adam-optimization-algorithm-for-deep-learning/\n",
        "\n",
        "Metrics =\n",
        "\n",
        "https://machinelearningmastery.com/custom-metrics-deep-learning-keras-python/\n",
        "\n",
        "https://stackoverflow.com/questions/47302085/what-is-metrics-in-keras"
      ]
    },
    {
      "cell_type": "code",
      "metadata": {
        "id": "cAAPXFGlngGu",
        "colab_type": "code",
        "colab": {
          "base_uri": "https://localhost:8080/",
          "height": 51
        },
        "outputId": "5a04d6a2-0d69-45d6-c4af-d38eac51685e"
      },
      "source": [
        "X_train, X_test, Y_train, Y_test = train_test_split(X,Y, test_size = 0.2, random_state = 42)\n",
        "print(X_train.shape,Y_train.shape)\n",
        "print(X_test.shape,Y_test.shape)"
      ],
      "execution_count": 8,
      "outputs": [
        {
          "output_type": "stream",
          "text": [
            "(600, 85) (600, 1)\n",
            "(150, 85) (150, 1)\n"
          ],
          "name": "stdout"
        }
      ]
    },
    {
      "cell_type": "code",
      "metadata": {
        "id": "6AhMGK4GnjE8",
        "colab_type": "code",
        "colab": {
          "base_uri": "https://localhost:8080/",
          "height": 51
        },
        "outputId": "fee36024-25dc-4c6e-8a06-0367f9a5329a"
      },
      "source": [
        "max_words = 50\n",
        "X_train = sequence.pad_sequences(X_train, maxlen=max_words)\n",
        "X_test = sequence.pad_sequences(X_test, maxlen=max_words)\n",
        "print('input_train shape:', X_train.shape)\n",
        "print('input_test shape:', X_test.shape)"
      ],
      "execution_count": 9,
      "outputs": [
        {
          "output_type": "stream",
          "text": [
            "input_train shape: (600, 50)\n",
            "input_test shape: (150, 50)\n"
          ],
          "name": "stdout"
        }
      ]
    },
    {
      "cell_type": "markdown",
      "metadata": {
        "id": "tSxdX82Jtwlx",
        "colab_type": "text"
      },
      "source": [
        "\n",
        "\n",
        "---\n",
        "\n",
        "**Epoch Batch**\n",
        "\n",
        "![alt text](https://qph.fs.quoracdn.net/main-qimg-9b9e79594d7abe0f0fd3ca350844fa00)\n",
        "\n",
        "Ref =\n",
        "\n",
        "https://towardsdatascience.com/epoch-vs-iterations-vs-batch-size-4dfb9c7ce9c9\n",
        "\n",
        "https://machinelearningmastery.com/difference-between-a-batch-and-an-epoch/\n",
        "\n",
        "https://www.javacodemonk.com/difference-between-loss-accuracy-validation-loss-validation-accuracy-in-keras-ff358faa\n",
        "\n",
        "https://stackoverflow.com/questions/46308374/what-is-validation-data-used-for-in-a-keras-sequential-model/46308466"
      ]
    },
    {
      "cell_type": "code",
      "metadata": {
        "id": "lVXB0FNSnlm8",
        "colab_type": "code",
        "colab": {
          "base_uri": "https://localhost:8080/",
          "height": 204
        },
        "outputId": "115c06c4-c3ed-4cf3-cb50-aaef7eb72491"
      },
      "source": [
        "model_RNN = Sequential()\n",
        "model_RNN.add(Embedding(10000, 32))\n",
        "model_RNN.add(SimpleRNN(32))\n",
        "model_RNN.add(Dense(1, activation='sigmoid'))\n",
        "model_RNN.compile(optimizer='adam', loss='binary_crossentropy', metrics=['acc'])\n",
        "history_RNN = model_RNN.fit(X_train, Y_train,\n",
        "                    epochs=5,\n",
        "                    batch_size=512,\n",
        "                    validation_split=0.2)"
      ],
      "execution_count": 10,
      "outputs": [
        {
          "output_type": "stream",
          "text": [
            "Train on 480 samples, validate on 120 samples\n",
            "Epoch 1/5\n",
            "480/480 [==============================] - 1s 3ms/sample - loss: 0.7643 - acc: 0.1271 - val_loss: 0.6420 - val_acc: 0.2417\n",
            "Epoch 2/5\n",
            "480/480 [==============================] - 0s 126us/sample - loss: 0.6125 - acc: 0.2833 - val_loss: 0.5354 - val_acc: 0.2917\n",
            "Epoch 3/5\n",
            "480/480 [==============================] - 0s 119us/sample - loss: 0.4833 - acc: 0.3667 - val_loss: 0.4392 - val_acc: 0.3000\n",
            "Epoch 4/5\n",
            "480/480 [==============================] - 0s 107us/sample - loss: 0.3663 - acc: 0.3896 - val_loss: 0.3444 - val_acc: 0.3417\n",
            "Epoch 5/5\n",
            "480/480 [==============================] - 0s 113us/sample - loss: 0.2532 - acc: 0.3938 - val_loss: 0.2441 - val_acc: 0.3417\n"
          ],
          "name": "stdout"
        }
      ]
    },
    {
      "cell_type": "code",
      "metadata": {
        "id": "4zhfOkzPnnSM",
        "colab_type": "code",
        "colab": {
          "base_uri": "https://localhost:8080/",
          "height": 51
        },
        "outputId": "bd1d6221-31fa-4d20-b454-376d0773c397"
      },
      "source": [
        "loss_RNN, acc_RNN = model_RNN.evaluate(X_test, Y_test, verbose=0)\n",
        "print(\"Accuracy: %.2f\" % (acc_RNN*100), \"%\")\n",
        "print(\"Loss: %.2f\" % (loss_RNN*100), \"%\")"
      ],
      "execution_count": 11,
      "outputs": [
        {
          "output_type": "stream",
          "text": [
            "Accuracy: 35.33 %\n",
            "Loss: 23.91 %\n"
          ],
          "name": "stdout"
        }
      ]
    }
  ]
}